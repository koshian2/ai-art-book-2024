{
 "cells": [
  {
   "cell_type": "code",
   "execution_count": 1,
   "id": "2d025d48-578b-4f54-a47a-36c97eabbcd3",
   "metadata": {},
   "outputs": [
    {
     "name": "stdout",
     "output_type": "stream",
     "text": [
      "/usr/local/lib/python3.10/dist-packages/diffusers/models/dual_transformer_2d.py:20: FutureWarning: `DualTransformer2DModel` is deprecated and will be removed in version 0.29. Importing `DualTransformer2DModel` from `diffusers.models.dual_transformer_2d` is deprecated and this will be removed in a future version. Please use `from diffusers.models.transformers.dual_transformer_2d import DualTransformer2DModel`, instead.\n",
      "  deprecate(\"DualTransformer2DModel\", \"0.29\", deprecation_message)\n",
      "/usr/local/lib/python3.10/dist-packages/diffusers/models/lora.py:306: FutureWarning: `LoRACompatibleConv` is deprecated and will be removed in version 1.0.0. Use of `LoRACompatibleConv` is deprecated. Please switch to PEFT backend by installing PEFT: `pip install peft`.\n",
      "  deprecate(\"LoRACompatibleConv\", \"1.0.0\", deprecation_message)\n",
      "Some weights of the model checkpoint were not used when initializing UNet2DConditionModel: \n",
      " ['conv_norm_out.weight, conv_norm_out.bias, conv_out.weight, conv_out.bias']\n",
      "pose video has 217 frames, with 25 fps\n",
      "/home/33_Animate_Anyone/src/pipelines/pipeline_pose2vid_long.py:403: FutureWarning: Accessing config attribute `in_channels` directly via 'UNet3DConditionModel' object attribute is deprecated. Please access 'in_channels' over 'UNet3DConditionModel's config object instead, e.g. 'unet.config.in_channels'.\n",
      "  num_channels_latents = self.denoising_unet.in_channels\n",
      "/usr/local/lib/python3.10/dist-packages/torch/nn/modules/conv.py:456: UserWarning: Plan failed with a cudnnException: CUDNN_BACKEND_EXECUTION_PLAN_DESCRIPTOR: cudnnFinalize Descriptor Failed cudnn_status: CUDNN_STATUS_NOT_SUPPORTED (Triggered internally at ../aten/src/ATen/native/cudnn/Conv_v8.cpp:919.)\n",
      "  return F.conv2d(input, weight, bias, self.stride,\n",
      "  0%|                                                    | 0/30 [00:00<?, ?it/s]/usr/local/lib/python3.10/dist-packages/diffusers/models/resnet.py:323: FutureWarning: `scale` is deprecated and will be removed in version 1.0.0. The `scale` argument is deprecated and will be ignored. Please remove it, as passing it will raise an error in the future. `scale` should directly be passed while calling the underlying pipeline component i.e., via `cross_attention_kwargs`.\n",
      "  deprecate(\"scale\", \"1.0.0\", deprecation_message)\n",
      "/usr/local/lib/python3.10/dist-packages/diffusers/models/downsampling.py:135: FutureWarning: `scale` is deprecated and will be removed in version 1.0.0. The `scale` argument is deprecated and will be ignored. Please remove it, as passing it will raise an error in the future. `scale` should directly be passed while calling the underlying pipeline component i.e., via `cross_attention_kwargs`.\n",
      "  deprecate(\"scale\", \"1.0.0\", deprecation_message)\n",
      "/usr/local/lib/python3.10/dist-packages/diffusers/models/upsampling.py:144: FutureWarning: `scale` is deprecated and will be removed in version 1.0.0. The `scale` argument is deprecated and will be ignored. Please remove it, as passing it will raise an error in the future. `scale` should directly be passed while calling the underlying pipeline component i.e., via `cross_attention_kwargs`.\n",
      "  deprecate(\"scale\", \"1.0.0\", deprecation_message)\n",
      "100%|███████████████████████████████████████████| 30/30 [03:53<00:00,  7.78s/it]\n",
      "100%|███████████████████████████████████████████| 64/64 [00:04<00:00, 12.93it/s]\n",
      "pose video has 321 frames, with 30 fps\n",
      "100%|███████████████████████████████████████████| 30/30 [03:56<00:00,  7.88s/it]\n",
      "100%|███████████████████████████████████████████| 64/64 [00:04<00:00, 12.94it/s]\n",
      "pose video has 217 frames, with 25 fps\n",
      "100%|███████████████████████████████████████████| 30/30 [03:56<00:00,  7.88s/it]\n",
      "100%|███████████████████████████████████████████| 64/64 [00:04<00:00, 12.94it/s]\n",
      "pose video has 321 frames, with 30 fps\n",
      "100%|███████████████████████████████████████████| 30/30 [03:56<00:00,  7.88s/it]\n",
      "100%|███████████████████████████████████████████| 64/64 [00:04<00:00, 12.94it/s]\n",
      "pose video has 321 frames, with 30 fps\n",
      "100%|███████████████████████████████████████████| 30/30 [03:56<00:00,  7.88s/it]\n",
      "100%|███████████████████████████████████████████| 64/64 [00:04<00:00, 12.92it/s]\n",
      "pose video has 321 frames, with 30 fps\n",
      "100%|███████████████████████████████████████████| 30/30 [03:56<00:00,  7.89s/it]\n",
      "100%|███████████████████████████████████████████| 64/64 [00:04<00:00, 12.94it/s]\n",
      "pose video has 217 frames, with 25 fps\n",
      "100%|███████████████████████████████████████████| 30/30 [03:56<00:00,  7.88s/it]\n",
      "100%|███████████████████████████████████████████| 64/64 [00:04<00:00, 12.93it/s]\n",
      "pose video has 217 frames, with 25 fps\n",
      "100%|███████████████████████████████████████████| 30/30 [03:56<00:00,  7.88s/it]\n",
      "100%|███████████████████████████████████████████| 64/64 [00:04<00:00, 12.93it/s]\n",
      "pose video has 217 frames, with 25 fps\n",
      "100%|███████████████████████████████████████████| 30/30 [03:56<00:00,  7.88s/it]\n",
      "100%|███████████████████████████████████████████| 64/64 [00:04<00:00, 12.93it/s]\n",
      "pose video has 217 frames, with 25 fps\n",
      "100%|███████████████████████████████████████████| 30/30 [03:56<00:00,  7.88s/it]\n",
      "100%|███████████████████████████████████████████| 64/64 [00:04<00:00, 12.94it/s]\n",
      "pose video has 217 frames, with 25 fps\n",
      "100%|███████████████████████████████████████████| 30/30 [03:56<00:00,  7.88s/it]\n",
      "100%|███████████████████████████████████████████| 64/64 [00:04<00:00, 12.94it/s]\n",
      "pose video has 217 frames, with 25 fps\n",
      "100%|███████████████████████████████████████████| 30/30 [03:56<00:00,  7.90s/it]\n",
      "100%|███████████████████████████████████████████| 64/64 [00:04<00:00, 12.92it/s]\n",
      "pose video has 321 frames, with 30 fps\n",
      "100%|███████████████████████████████████████████| 30/30 [03:56<00:00,  7.89s/it]\n",
      "100%|███████████████████████████████████████████| 64/64 [00:04<00:00, 12.93it/s]\n"
     ]
    }
   ],
   "source": [
    "!python -m scripts.pose2vid --config ./configs/prompts/animation.yaml -W 512 -H 784 -L 64 --fps 12"
   ]
  },
  {
   "cell_type": "code",
   "execution_count": null,
   "id": "a3d2345b-6fea-4df3-90a8-0d6618d4cd2c",
   "metadata": {},
   "outputs": [],
   "source": [
    "# 13.4GB"
   ]
  }
 ],
 "metadata": {
  "kernelspec": {
   "display_name": "Python 3 (ipykernel)",
   "language": "python",
   "name": "python3"
  },
  "language_info": {
   "codemirror_mode": {
    "name": "ipython",
    "version": 3
   },
   "file_extension": ".py",
   "mimetype": "text/x-python",
   "name": "python",
   "nbconvert_exporter": "python",
   "pygments_lexer": "ipython3",
   "version": "3.10.12"
  }
 },
 "nbformat": 4,
 "nbformat_minor": 5
}
