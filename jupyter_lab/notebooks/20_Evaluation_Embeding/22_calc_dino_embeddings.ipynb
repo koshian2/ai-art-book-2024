{
 "cells": [
  {
   "cell_type": "code",
   "execution_count": 1,
   "id": "7a1e006d-22b1-47f5-8be2-1767d2eae236",
   "metadata": {},
   "outputs": [],
   "source": [
    "import glob\n",
    "from PIL import Image\n",
    "import torch\n",
    "from transformers import AutoProcessor, AutoModel\n",
    "import numpy as np\n",
    "from sklearn.metrics.pairwise import cosine_similarity"
   ]
  },
  {
   "cell_type": "code",
   "execution_count": 6,
   "id": "f8228317-f58a-4f3d-a817-c6e2c266662d",
   "metadata": {},
   "outputs": [],
   "source": [
    "def dino_embeddings(image_paths):\n",
    "    dino_processor = AutoProcessor.from_pretrained('facebook/dino-vits16')\n",
    "    dino_model = AutoModel.from_pretrained('facebook/dino-vits16', add_pooling_layer=False)\n",
    "    pil_images = [Image.open(image) for image in image_paths]\n",
    "\n",
    "    with torch.no_grad():\n",
    "        inputs = dino_processor(images=pil_images, return_tensors=\"pt\")\n",
    "        outputs = dino_model(**inputs)\n",
    "        last_hidden_states = outputs.last_hidden_state.mean(dim=1)\n",
    "        return last_hidden_states\n",
    "\n",
    "def compute_similarity(data_a, data_b, pairwise=False):\n",
    "    similarity = cosine_similarity(data_a, data_b)\n",
    "    if not pairwise:\n",
    "        # 対角成分を除いた上三角行列を取得するインデックス\n",
    "        rows, cols = np.triu_indices_from(similarity, k=1)\n",
    "        # 対角成分を除いた上三角行列の要素をベクトルとして取得\n",
    "        upper_tri_vector_excluding_diagonal = similarity[rows, cols]\n",
    "        # print(upper_tri_vector_excluding_diagonal.shape)\n",
    "        return np.mean(upper_tri_vector_excluding_diagonal)\n",
    "    else:\n",
    "        # 対角成分のみ計算\n",
    "        diagonal = similarity.diagonal()\n",
    "        return np.mean(diagonal)\n",
    "    \n",
    "\n",
    "def compute_dino_similarities(target_directory):\n",
    "    real_files = sorted(glob.glob(f\"small_coco/*.png\"))\n",
    "    real_embeddings = dino_embeddings(real_files) # (N, D)\n",
    "\n",
    "    fake_files = sorted(glob.glob(f\"generated/{target_directory}/*.png\"))\n",
    "    fake_embeddings = dino_embeddings(fake_files) # (N, D)\n",
    "\n",
    "    dist_real_real = compute_similarity(real_embeddings, real_embeddings)\n",
    "    dist_real_fake = compute_similarity(real_embeddings, fake_embeddings, pairwise=True)\n",
    "    dist_fake_fake = compute_similarity(fake_embeddings, fake_embeddings)\n",
    "\n",
    "    print(target_directory)\n",
    "    print(\"real_real : \", dist_real_real)\n",
    "    print(\"real_fake : \", dist_real_fake)\n",
    "    print(\"fake_fake : \", dist_fake_fake)"
   ]
  },
  {
   "cell_type": "code",
   "execution_count": 7,
   "id": "4ef44c88-f1af-4290-bab5-ebd40117b247",
   "metadata": {},
   "outputs": [
    {
     "name": "stderr",
     "output_type": "stream",
     "text": [
      "/usr/local/lib/python3.10/dist-packages/huggingface_hub/file_download.py:1132: FutureWarning: `resume_download` is deprecated and will be removed in version 1.0.0. Downloads always resume when possible. If you want to force a new download, use `force_download=True`.\n",
      "  warnings.warn(\n",
      "Could not find image processor class in the image processor config or the model config. Loading based on pattern matching with the model's feature extractor configuration. Please open a PR/issue to update `preprocessor_config.json` to use `image_processor_type` instead of `feature_extractor_type`. This warning will be removed in v4.40.\n",
      "Could not find image processor class in the image processor config or the model config. Loading based on pattern matching with the model's feature extractor configuration. Please open a PR/issue to update `preprocessor_config.json` to use `image_processor_type` instead of `feature_extractor_type`. This warning will be removed in v4.40.\n"
     ]
    },
    {
     "name": "stdout",
     "output_type": "stream",
     "text": [
      "sd15\n",
      "real_real :  0.8542539\n",
      "real_fake :  0.75566673\n",
      "fake_fake :  0.7344196\n"
     ]
    },
    {
     "name": "stderr",
     "output_type": "stream",
     "text": [
      "/usr/local/lib/python3.10/dist-packages/huggingface_hub/file_download.py:1132: FutureWarning: `resume_download` is deprecated and will be removed in version 1.0.0. Downloads always resume when possible. If you want to force a new download, use `force_download=True`.\n",
      "  warnings.warn(\n",
      "Could not find image processor class in the image processor config or the model config. Loading based on pattern matching with the model's feature extractor configuration. Please open a PR/issue to update `preprocessor_config.json` to use `image_processor_type` instead of `feature_extractor_type`. This warning will be removed in v4.40.\n",
      "Could not find image processor class in the image processor config or the model config. Loading based on pattern matching with the model's feature extractor configuration. Please open a PR/issue to update `preprocessor_config.json` to use `image_processor_type` instead of `feature_extractor_type`. This warning will be removed in v4.40.\n"
     ]
    },
    {
     "name": "stdout",
     "output_type": "stream",
     "text": [
      "sd21\n",
      "real_real :  0.8542539\n",
      "real_fake :  0.7556185\n",
      "fake_fake :  0.7396738\n"
     ]
    },
    {
     "name": "stderr",
     "output_type": "stream",
     "text": [
      "/usr/local/lib/python3.10/dist-packages/huggingface_hub/file_download.py:1132: FutureWarning: `resume_download` is deprecated and will be removed in version 1.0.0. Downloads always resume when possible. If you want to force a new download, use `force_download=True`.\n",
      "  warnings.warn(\n",
      "Could not find image processor class in the image processor config or the model config. Loading based on pattern matching with the model's feature extractor configuration. Please open a PR/issue to update `preprocessor_config.json` to use `image_processor_type` instead of `feature_extractor_type`. This warning will be removed in v4.40.\n",
      "Could not find image processor class in the image processor config or the model config. Loading based on pattern matching with the model's feature extractor configuration. Please open a PR/issue to update `preprocessor_config.json` to use `image_processor_type` instead of `feature_extractor_type`. This warning will be removed in v4.40.\n"
     ]
    },
    {
     "name": "stdout",
     "output_type": "stream",
     "text": [
      "sdxl\n",
      "real_real :  0.8542539\n",
      "real_fake :  0.77147603\n",
      "fake_fake :  0.7619995\n"
     ]
    }
   ],
   "source": [
    "compute_dino_similarities(\"sd15\")\n",
    "compute_dino_similarities(\"sd21\")\n",
    "compute_dino_similarities(\"sdxl\")"
   ]
  }
 ],
 "metadata": {
  "kernelspec": {
   "display_name": "Python 3 (ipykernel)",
   "language": "python",
   "name": "python3"
  },
  "language_info": {
   "codemirror_mode": {
    "name": "ipython",
    "version": 3
   },
   "file_extension": ".py",
   "mimetype": "text/x-python",
   "name": "python",
   "nbconvert_exporter": "python",
   "pygments_lexer": "ipython3",
   "version": "3.10.12"
  }
 },
 "nbformat": 4,
 "nbformat_minor": 5
}
